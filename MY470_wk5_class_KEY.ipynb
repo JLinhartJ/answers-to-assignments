{
 "cells": [
  {
   "cell_type": "markdown",
   "metadata": {
    "slideshow": {
     "slide_type": "slide"
    }
   },
   "source": [
    "### MY470 Computer Programming\n",
    "# Programming in Teams\n",
    "### Week 5 Lab"
   ]
  },
  {
   "cell_type": "markdown",
   "metadata": {
    "slideshow": {
     "slide_type": "slide"
    }
   },
   "source": [
    "## Suggested Workflow for Prorgamming in Teams\n",
    "\n",
    "1. Use `pass` to outline structure of program\n",
    "* Write class/function specifications\n",
    "* Split the work\n",
    "* Fill in the details\n",
    "* Review each other's code to identify and fix potential problems\n",
    "* Merge\n",
    "* Identify bugs and problems\n",
    "* Repeat 3-7 as necessary"
   ]
  },
  {
   "cell_type": "code",
   "execution_count": 13,
   "metadata": {
    "collapsed": true,
    "slideshow": {
     "slide_type": "-"
    }
   },
   "outputs": [],
   "source": [
    "class MyClass(object):\n",
    "    \n",
    "    def __init__(self):\n",
    "        '''Create a new instance.'''\n",
    "        pass\n",
    "    \n",
    "    def class_methods(self, arg):\n",
    "        pass\n"
   ]
  },
  {
   "cell_type": "markdown",
   "metadata": {
    "slideshow": {
     "slide_type": "slide"
    }
   },
   "source": [
    "## GitHub as a Collaboration Tool\n",
    "\n",
    "1. Clone repository locally\n",
    "* Make changes in cloned repository\n",
    "* Upload new file, **creating a new branch and starting a pull request**\n",
    "*"
   ]
  },
  {
   "cell_type": "markdown",
   "metadata": {
    "slideshow": {
     "slide_type": "slide"
    }
   },
   "source": [
    "## Create a New Branch When Uploading Changed File\n",
    "\n",
    "![Create a new branch](figs/branching.png \"Create a new branch\")"
   ]
  },
  {
   "cell_type": "markdown",
   "metadata": {
    "slideshow": {
     "slide_type": "slide"
    }
   },
   "source": [
    "## Open a Pull Request to Get Feedback (Automatically Directed There)\n",
    "\n",
    "![Open a pull request](figs/pull_request.png \"Open a pull request\")"
   ]
  },
  {
   "cell_type": "markdown",
   "metadata": {
    "slideshow": {
     "slide_type": "slide"
    }
   },
   "source": [
    "## You (and Later Your Partner) Can View Your Changes Highlighted\n",
    "\n",
    "![View changes](figs/changes.png \"View changes\")"
   ]
  },
  {
   "cell_type": "markdown",
   "metadata": {
    "slideshow": {
     "slide_type": "slide"
    }
   },
   "source": [
    "## Wait for Comments from Partner Before Merging\n",
    "\n",
    "![Merge after comments](figs/merge.png \"Merge after comments\")"
   ]
  },
  {
   "cell_type": "markdown",
   "metadata": {
    "slideshow": {
     "slide_type": "slide"
    }
   },
   "source": [
    "## Confirm Merge\n",
    "\n",
    "![Confirm merge](figs/confirm_merge.png \"Confirm merge\")"
   ]
  },
  {
   "cell_type": "markdown",
   "metadata": {
    "slideshow": {
     "slide_type": "slide"
    }
   },
   "source": [
    "## Open Issues to Discuss Problems and Ask Partner for Help\n",
    "\n",
    "![Open a new issue](figs/open_issue.png \"Open a new issue\")"
   ]
  },
  {
   "cell_type": "markdown",
   "metadata": {
    "slideshow": {
     "slide_type": "slide"
    }
   },
   "source": [
    "## Open Issues to Discuss Problems and Ask Partner for Help\n",
    "\n",
    "![Submit new issue](figs/submit_issue.png \"Submit new issue\")"
   ]
  },
  {
   "cell_type": "markdown",
   "metadata": {
    "slideshow": {
     "slide_type": "slide"
    }
   },
   "source": [
    "## Discuss\n",
    "\n",
    "![Discuss](figs/discuss.png \"Discuss\")"
   ]
  },
  {
   "cell_type": "code",
   "execution_count": 29,
   "metadata": {
    "slideshow": {
     "slide_type": "slide"
    }
   },
   "outputs": [
    {
     "name": "stdout",
     "output_type": "stream",
     "text": [
      "Customer #1 ordered \"Scarcity: The True Cost of Not Having Enough\", \"Nudge: Improving Decisions About Health, Wealth and Happiness\" for £12.56\n"
     ]
    }
   ],
   "source": [
    "# Exercise 1: Work with the person next to you to design \n",
    "# classes to manage the products, customers, and purchase \n",
    "# orders for an online book store such as amazon.com. \n",
    "# Outline the data attributes and useful methods for \n",
    "# each class. You can discuss and create the outline together. \n",
    "\n",
    "# Solution: This is only a partial solution, demonstrating \n",
    "# to you the application of class hierarchies and \n",
    "# information encapsualtion. Designing a proper class structure \n",
    "# is quite difficult and time-consuming.\n",
    "\n",
    "class Customer(object):\n",
    "    \n",
    "    next_unique_id = 1\n",
    "    \n",
    "    def __init__(self, name):\n",
    "        '''Create new customer.'''\n",
    "        self.customer_id = Customer.next_unique_id\n",
    "        self.name = name\n",
    "        self.order_history = []\n",
    "        Customer.next_unique_id += 1\n",
    "    \n",
    "    def get_customer_id(self):\n",
    "        '''Return customer\\'s unique id.'''\n",
    "        return self.customer_id\n",
    "    \n",
    "    def get_order_history(self):\n",
    "        '''Return customer\\'s orders one at a time.'''\n",
    "        for i in self.order_history:\n",
    "            yield i\n",
    "            \n",
    "    def __str__(self):\n",
    "        return 'Customer #' + str(self.customer_id)\n",
    "    \n",
    "class Product(object):\n",
    "    \n",
    "    def __init__(self, name):\n",
    "        '''Create new product.'''\n",
    "        self.name = name\n",
    "        self.price = None\n",
    "        self.dimensions = None\n",
    "    \n",
    "    def get_name(self):\n",
    "        '''Get product name.'''\n",
    "        return self.name\n",
    "    \n",
    "    def change_name(self, new_name):\n",
    "        '''Change product name.'''\n",
    "        self.name = new_name\n",
    "    \n",
    "    def set_price(self, prc):\n",
    "        '''Set product price.'''\n",
    "        self.price = prc\n",
    "        \n",
    "    def get_price(self):\n",
    "        '''Get product price.'''\n",
    "        return self.price\n",
    "    \n",
    "    def set_dimensions(self, dims):\n",
    "        '''Set product dimensions as a string of the type: \"w0.0 x l0.0 x h0.0 cm\"'''\n",
    "        self.dimensions = dims\n",
    "        \n",
    "    def get_dimensions(self):\n",
    "        '''Get product dimensions. Returns a string of the type \"w0.0 x l0.0 x h0.0 cm\"'''\n",
    "        return self.dimensions\n",
    "    \n",
    "    def __str__(self):\n",
    "        return self.name\n",
    "        \n",
    "# Book subclass of Product\n",
    "class Book(Product):\n",
    "    \n",
    "    def __init__(self, name):\n",
    "        '''Create new book.'''\n",
    "        Product.__init__(self, name)\n",
    "        self.num_pages = None\n",
    "        self.publisher = None\n",
    "        self.author = None\n",
    "        self.year = None\n",
    "        \n",
    "    # Define the usual get and set methods\n",
    "    \n",
    "# ElectronicBook is subclass of Book    \n",
    "class ElectronicBook(Book):\n",
    "    \n",
    "    def __init__(self, name):\n",
    "        '''Create new electronic book.'''\n",
    "        Book.__init__(self, name)\n",
    "        self.filetype = None\n",
    "        self.link = None\n",
    "    \n",
    "    # Add additional get and set methods for e-book data attributes \n",
    "\n",
    "# PrintedBook is subclass of Book    \n",
    "class PrintedBook(Book):\n",
    "    pass        \n",
    "\n",
    "\n",
    "class Order(object):\n",
    "    \n",
    "    def __init__(self, customer):\n",
    "        '''Create new purchase order.'''\n",
    "        self.customer = customer\n",
    "        self.products = []\n",
    "    \n",
    "    def add_product(self, product):\n",
    "        '''Add product to customer\\'s purchase order.''' \n",
    "        self.products.append(product)\n",
    "        \n",
    "    def get_total_price(self):\n",
    "        '''Get the total price for the order.'''\n",
    "        # Notice that I use the method to get the product price\n",
    "        # and I do not access the data attribute directly\n",
    "        return sum([p.get_price() for p in self.products])\n",
    "    \n",
    "    def __str__(self):\n",
    "        return str(self.customer) + ' ordered ' + \\\n",
    "               ', '.join(['\"'+str(i)+'\"' for i in self.products]) + \\\n",
    "               ' for £' + str(self.get_total_price())\n",
    "    \n",
    "\n",
    "# Create a new customer\n",
    "c1 = Customer('Milena Tsvetkova')\n",
    "\n",
    "# Create a couple of products\n",
    "b1 = PrintedBook('Scarcity: The True Cost of Not Having Enough')\n",
    "# Notice set_price is a method of the superclass Product. That's why we can\n",
    "# use it although we have not defined it in the subclass.\n",
    "b1.set_price(7.57)\n",
    "\n",
    "b2 = PrintedBook('Nudge: Improving Decisions About Health, Wealth and Happiness')\n",
    "b2.set_price(4.99)\n",
    "\n",
    "# Customer buys products, get order summary\n",
    "o1 = Order(c1)\n",
    "o1.add_product(b1)\n",
    "o1.add_product(b2)\n",
    "print(o1)\n"
   ]
  },
  {
   "cell_type": "code",
   "execution_count": 15,
   "metadata": {
    "collapsed": true,
    "slideshow": {
     "slide_type": "-"
    }
   },
   "outputs": [],
   "source": [
    "# Exercise 2: Create a new repository in your account and upload \n",
    "# the class hierarchy you created. Practice cloning locally, \n",
    "# making changes, and uploading the changed file to your remote \n",
    "# repository by creating a branch and opening a pull request. \n",
    "# (Note that in order for others to be able to upload files \n",
    "# to your repository, you need to grant them push access.)\n",
    "\n",
    "# Solution: Use class slides for detailed instructions \n",
    "# on how to do this."
   ]
  },
  {
   "cell_type": "code",
   "execution_count": 16,
   "metadata": {
    "collapsed": true,
    "slideshow": {
     "slide_type": "-"
    }
   },
   "outputs": [],
   "source": [
    "# Exercise 3: Open a new issue in your partner's repository. \n",
    "# (Note that you don't need push access to open issues.)\n",
    "\n",
    "# Solution: Use class slides for detailed instructions \n",
    "# on how to do this."
   ]
  }
 ],
 "metadata": {
  "celltoolbar": "Slideshow",
  "kernelspec": {
   "display_name": "Python 3",
   "language": "python",
   "name": "python3"
  },
  "language_info": {
   "codemirror_mode": {
    "name": "ipython",
    "version": 3
   },
   "file_extension": ".py",
   "mimetype": "text/x-python",
   "name": "python",
   "nbconvert_exporter": "python",
   "pygments_lexer": "ipython3",
   "version": "3.6.5"
  }
 },
 "nbformat": 4,
 "nbformat_minor": 2
}
