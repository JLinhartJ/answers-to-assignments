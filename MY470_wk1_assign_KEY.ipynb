{
 "cells": [
  {
   "cell_type": "markdown",
   "metadata": {
    "slideshow": {
     "slide_type": "slide"
    }
   },
   "source": [
    "### MY470 Computer Programming\n",
    "\n",
    "### Week 1 Assignment\n",
    "\n",
    "#### \\*\\*\\* Example Answers \\*\\*\\*"
   ]
  },
  {
   "cell_type": "markdown",
   "metadata": {
    "slideshow": {
     "slide_type": "slide"
    }
   },
   "source": [
    "---\n",
    "### Problem 1: Follow an algorithm\n",
    "\n",
    "Please create a new Markdown cell below.\n",
    "\n",
    "If you have any experience with coding and programming, list any courses with a coding component that you have taken or coding projects you have participated in. For each item, mention the programming/markup language you used and, in a few words, what the task involved. \n",
    "\n",
    "If you have no prior experience with coding or programming, list three skills that you would like to acquire during this course.\n",
    "\n",
    "#### Hints\n",
    "\n",
    "You can find basic information on formating text in Markdown on this [cheatsheet](https://github.com/adam-p/markdown-here/wiki/Markdown-Cheatsheet). You can enter your answers either as an unordered or an ordered list.  "
   ]
  },
  {
   "cell_type": "markdown",
   "metadata": {},
   "source": [
    "* In Course 1, I learned how to program in Java\n",
    "* In Course 2, I learned how to obtain web data and analyze it in Python\n",
    "* In Project 1, I used Z-tree to program a social group experiment\n",
    "* In Project 2, I used NetLogo to implement an agent-based model\n",
    "* In Project 3, I used JavaScript to create a real-time multi-player game"
   ]
  },
  {
   "cell_type": "markdown",
   "metadata": {
    "slideshow": {
     "slide_type": "slide"
    }
   },
   "source": [
    "---\n",
    "### Problem 2: Write a simple Python program\n",
    "\n",
    "Create a new Code cell below and write a simple Python program that takes the user's name as input and prints a greeting using it. Here is an example of how this program might look like:\n",
    "\n",
    "```What is your name? [Milena Tsvetkova]\n",
    "Ahoy, Milena Tsvetkova!```\n",
    "\n",
    "In the example, the user entered the text shown in square brackets (\"Milena Tsvetkova\"). The program printed all the other text. \n",
    "\n",
    "#### Hints\n",
    "\n",
    "To see how to get input from the user's console, take a look at the [input function](https://docs.python.org/3/library/functions.html#input) in the Python online documentation. You will need to store the user input in a variable and use the variable to print the greeting."
   ]
  },
  {
   "cell_type": "code",
   "execution_count": null,
   "metadata": {
    "collapsed": true
   },
   "outputs": [],
   "source": [
    "name = input(\"What is your name? \")\n",
    "print('Ahoy, ' + name + '!')             "
   ]
  },
  {
   "cell_type": "markdown",
   "metadata": {},
   "source": [
    "---\n",
    "### Problem 3: Submit the assignment\n",
    "\n",
    "Submit the assignment on Github before the deadline. "
   ]
  },
  {
   "cell_type": "markdown",
   "metadata": {},
   "source": [
    "---\n",
    "\n",
    "### Evaluation\n",
    "\n",
    "| Problem | Mark     | Comment   \n",
    "|:-------:|:--------:|:----------------------\n",
    "| 1       |   /6    |              \n",
    "| 2       |   /6    | \n",
    "| 3       |   /8    | \n",
    "|**Total**|**/20**  | \n"
   ]
  }
 ],
 "metadata": {
  "kernelspec": {
   "display_name": "Python [default]",
   "language": "python",
   "name": "python3"
  },
  "language_info": {
   "codemirror_mode": {
    "name": "ipython",
    "version": 3
   },
   "file_extension": ".py",
   "mimetype": "text/x-python",
   "name": "python",
   "nbconvert_exporter": "python",
   "pygments_lexer": "ipython3",
   "version": "3.6.3"
  }
 },
 "nbformat": 4,
 "nbformat_minor": 2
}
