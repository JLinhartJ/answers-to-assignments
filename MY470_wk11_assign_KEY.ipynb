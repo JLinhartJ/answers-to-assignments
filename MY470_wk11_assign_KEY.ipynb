{
 "cells": [
  {
   "cell_type": "markdown",
   "metadata": {
    "slideshow": {
     "slide_type": "slide"
    }
   },
   "source": [
    "### MY470 Computer Programming\n",
    "\n",
    "### Week 11 Assignment\n",
    "\n",
    "#### \\*\\*\\* Example Answers \\*\\*\\*"
   ]
  },
  {
   "cell_type": "markdown",
   "metadata": {
    "slideshow": {
     "slide_type": "slide"
    }
   },
   "source": [
    "---\n",
    "### Practicing searching and sorting algorithms"
   ]
  },
  {
   "cell_type": "markdown",
   "metadata": {},
   "source": [
    "### Problem 1: Linear search\n",
    "\n",
    "The version of linear search we discussed in lecture starts from index 0. Rewrite the function below to search from the end of the list instead of from the beginning. "
   ]
  },
  {
   "cell_type": "code",
   "execution_count": 32,
   "metadata": {},
   "outputs": [
    {
     "name": "stdout",
     "output_type": "stream",
     "text": [
      "True\n",
      "True\n",
      "True\n",
      "False\n"
     ]
    }
   ],
   "source": [
    "# To answer Problem 1, modify the code below. \n",
    "\n",
    "def linear_search(ls, e):\n",
    "    '''Assumes ls is a list.\n",
    "    Returns True if e is in ls, False otherwise.'''\n",
    "    \n",
    "    for i in range(len(ls) - 1, -1, -1):\n",
    "        if ls[i]==e:\n",
    "            return True\n",
    "    return False\n",
    "\n",
    "ls = [3, 2, 5, 1, 4, 7, 6] \n",
    "print(linear_search(ls, 3)) # Test for first item\n",
    "print(linear_search(ls, 5)) # Test for item in the middle\n",
    "print(linear_search(ls, 6)) # Test for last item\n",
    "print(linear_search(ls, 8)) # Test for non-existing item"
   ]
  },
  {
   "cell_type": "markdown",
   "metadata": {},
   "source": [
    "### Problem 2: Selection sort\n",
    "\n",
    "The version of selection sort we discussed in lecture starts from the end. Rewrite the function below to sort from the beginning of the list instead of from the end.\n"
   ]
  },
  {
   "cell_type": "code",
   "execution_count": 33,
   "metadata": {
    "scrolled": false
   },
   "outputs": [
    {
     "name": "stdout",
     "output_type": "stream",
     "text": [
      "[1, 2, 3, 4, 5, 6, 7]\n",
      "[1, 2, 3, 4, 5, 6, 7, 8]\n"
     ]
    }
   ],
   "source": [
    "# To answer Problem 2, modify the code below.  \n",
    "\n",
    "def selection_sort(ls):\n",
    "    '''Assumes ls is a list of elements that can be compared using >.\n",
    "    Sorts ls in ascending order'''\n",
    "    \n",
    "    # Consider each position, starting from the front\n",
    "    for pos in range(len(ls) - 1):\n",
    "        min_pos = pos\n",
    "        # Find the smallest item in the sublist after this position\n",
    "        for i in range(pos + 1, len(ls)):\n",
    "            if ls[i] < ls[min_pos]:\n",
    "                min_pos = i\n",
    "        \n",
    "        # Swap the item at this position with the smallest item\n",
    "        ls[pos], ls[min_pos] = ls[min_pos], ls[pos]\n",
    "\n",
    "# Test for odd number of items\n",
    "ls_odd = [3, 2, 5, 1, 4, 7, 6] \n",
    "selection_sort(ls_odd)\n",
    "print(ls_odd)\n",
    "\n",
    "# Test for even number of items\n",
    "ls_even = [3, 2, 5, 1, 4, 8, 7, 6] \n",
    "selection_sort(ls_even)\n",
    "print(ls_even)"
   ]
  },
  {
   "cell_type": "markdown",
   "metadata": {},
   "source": [
    "### Problem 3: Merge sort\n",
    "\n",
    "The version of merge sort we discussed in lecture uses the slicing operator `[:]`. However, the slicing operator in Python is $O(k)$ where $k$ is the size of the slice. In order to guarantee that the algorithm will be $O(n \\log n)$, you need to remove the slicing operator. To do this, you should pass the starting and ending indices along with the list when you make the recursive call. Rewrite the `merge_sort` function below to do so. You need to embed the new function and the old merge function in a **wrapper function** that looks the same as before, i.e. it is called `merge_sort` and it takes only one argument – the list to be sorted.\n",
    "\n",
    "#### Hint\n",
    "\n",
    "`middle = (start + end)//2`\n"
   ]
  },
  {
   "cell_type": "code",
   "execution_count": 1,
   "metadata": {
    "scrolled": false
   },
   "outputs": [
    {
     "name": "stdout",
     "output_type": "stream",
     "text": [
      "[1, 2, 3, 4, 5, 6, 7]\n",
      "[1, 2, 3, 4, 5, 6, 7, 8]\n"
     ]
    }
   ],
   "source": [
    "# To answer Problem 3, modify the code below. \n",
    "\n",
    "# This is the wrapper function\n",
    "def merge_sort(ls):\n",
    "    '''Assumes ls is a list. \n",
    "    Returns a new sorted list with same elements as ls.'''\n",
    "    \n",
    "    # This function now takes the list and the two indeces\n",
    "    def m_sort(ls, start, end): \n",
    "        '''Assumes ls is a list, and start and end are indeces for the list. \n",
    "        Returns a new sorted list with same elements as ls.'''\n",
    "        \n",
    "        if end - start <= 1:\n",
    "            return ls[start:end]\n",
    "        else:\n",
    "            middle = (start + end)//2\n",
    "            left = m_sort(ls, start, middle)\n",
    "            right = m_sort(ls, middle, end)\n",
    "            return merge(left, right)  \n",
    "    \n",
    "    # No need to touch this function\n",
    "    def merge(left, right):\n",
    "        '''Assumes left and right are sorted lists.\n",
    "        Returns a new sorted list containing the same elements as (left + right).'''\n",
    "\n",
    "        result = []\n",
    "        i, j = 0, 0\n",
    "        # Inspect the first items of the two lists and append the smaller one to results\n",
    "        while i < len(left) and j < len(right):\n",
    "            if left[i] < right[j]:\n",
    "                result.append(left[i])\n",
    "                i += 1\n",
    "            else:\n",
    "                result.append(right[j])\n",
    "                j += 1\n",
    "        # Append any remaining items\n",
    "        while i < len(left):\n",
    "            result.append(left[i])\n",
    "            i += 1\n",
    "        while j < len(right):\n",
    "            result.append(right[j])\n",
    "            j += 1\n",
    "        return result\n",
    "    \n",
    "    # Don't forget to return the result - we are not sorting in place but creating a new list\n",
    "    return m_sort(ls, 0, len(ls))\n",
    "\n",
    "# Test for odd number of items\n",
    "ls_odd = [3, 2, 5, 1, 4, 7, 6] \n",
    "ls_odd_sorted = merge_sort(ls_odd)\n",
    "print(ls_odd_sorted)\n",
    "\n",
    "# Test for even number of items\n",
    "ls_even = [3, 2, 5, 1, 4, 8, 7, 6] \n",
    "ls_even_sorted = merge_sort(ls_even)\n",
    "print(ls_even_sorted)"
   ]
  },
  {
   "cell_type": "markdown",
   "metadata": {},
   "source": [
    "---\n",
    "\n",
    "### Evaluation\n",
    "\n",
    "| Problem | Mark     | Comment   \n",
    "|:-------:|:--------:|:----------------------\n",
    "| 1       |   /5    |              \n",
    "| 2       |   /5    | \n",
    "| 3       |   /10   | \n",
    "|**Total**|**/20**  | \n"
   ]
  }
 ],
 "metadata": {
  "kernelspec": {
   "display_name": "Python [default]",
   "language": "python",
   "name": "python3"
  },
  "language_info": {
   "codemirror_mode": {
    "name": "ipython",
    "version": 3
   },
   "file_extension": ".py",
   "mimetype": "text/x-python",
   "name": "python",
   "nbconvert_exporter": "python",
   "pygments_lexer": "ipython3",
   "version": "3.6.3"
  }
 },
 "nbformat": 4,
 "nbformat_minor": 2
}
