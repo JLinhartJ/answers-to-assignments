{
 "cells": [
  {
   "cell_type": "markdown",
   "metadata": {
    "slideshow": {
     "slide_type": "slide"
    }
   },
   "source": [
    "### MY470 Computer Programming\n",
    "# Algorithms and Order of Growth\n",
    "### Week 10 Lecture – Example Answers"
   ]
  },
  {
   "cell_type": "markdown",
   "metadata": {
    "slideshow": {
     "slide_type": "slide"
    }
   },
   "source": [
    "## Space Complexity: Exercise 1"
   ]
  },
  {
   "cell_type": "code",
   "execution_count": 27,
   "metadata": {
    "slideshow": {
     "slide_type": "-"
    }
   },
   "outputs": [
    {
     "data": {
      "text/plain": [
       "4950"
      ]
     },
     "execution_count": 27,
     "metadata": {},
     "output_type": "execute_result"
    }
   ],
   "source": [
    "# What is the space complexity of the pair_list_sum function?\n",
    "\n",
    "def pair_list_sum(lst):\n",
    "    '''Sums all elements of a list using pair_sum.\n",
    "    Assumes elements of the list are numeric type.'''\n",
    "    res = 0\n",
    "    for i in range(len(lst)):\n",
    "        if i%2==0:\n",
    "            res += pair_sum(lst[i], lst[i+1])\n",
    "    return res \n",
    "    \n",
    "def pair_sum(a, b):\n",
    "    '''Takes a and b and returns their sum a + b.'''\n",
    "    return a + b\n",
    "\n",
    "pair_list_sum(list(range(100)))"
   ]
  },
  {
   "cell_type": "markdown",
   "metadata": {
    "slideshow": {
     "slide_type": "fragment"
    }
   },
   "source": [
    "The space complexity of this algorithm is $O(1)$. There are $O(n)$ calls to the function `pair_sum` but they do not exist simultaneously on the call stack. So you only need O(1) space."
   ]
  },
  {
   "cell_type": "markdown",
   "metadata": {
    "slideshow": {
     "slide_type": "slide"
    }
   },
   "source": [
    "## Space Complexity: Exercise 2"
   ]
  },
  {
   "cell_type": "code",
   "execution_count": 28,
   "metadata": {
    "slideshow": {
     "slide_type": "-"
    }
   },
   "outputs": [
    {
     "name": "stdout",
     "output_type": "stream",
     "text": [
      "55\n"
     ]
    }
   ],
   "source": [
    "# What is the space complexity of the fib function?\n",
    "\n",
    "def fib(n):\n",
    "    '''Assumes n is a non-negative integer.\n",
    "    Finds the n-th Fibonacci number using recursion.'''\n",
    "    if n <= 1:\n",
    "        return n\n",
    "    else:\n",
    "        return fib(n - 1) + fib(n - 2)\n",
    "    return answer\n",
    "\n",
    "print(fib(10))"
   ]
  },
  {
   "cell_type": "markdown",
   "metadata": {
    "slideshow": {
     "slide_type": "fragment"
    }
   },
   "source": [
    "The space complexity of this algorithm is $O(n)$. Although we have $O(2^n)$ recursive calls in total, only at most $O(n)$ of them exist at any given time."
   ]
  },
  {
   "cell_type": "markdown",
   "metadata": {
    "slideshow": {
     "slide_type": "slide"
    }
   },
   "source": [
    "## Analyzing and Benchmarking Your Code: Exercise 1"
   ]
  },
  {
   "cell_type": "code",
   "execution_count": 30,
   "metadata": {
    "slideshow": {
     "slide_type": "-"
    }
   },
   "outputs": [
    {
     "name": "stdout",
     "output_type": "stream",
     "text": [
      "[12000.297727272728, 5796.265909090909, 7951.277272727273, 3071.931818181818, 2881.4931818181817, 1524.8704545454545]\n",
      "[12000.297727272728, 5796.265909090909, 7951.277272727273, 3071.931818181818, 2881.4931818181817, 1524.8704545454545]\n",
      "get_centroid \t 0.0003571510314941406\n",
      "get_centroid_2 \t 0.000125885009765625\n"
     ]
    }
   ],
   "source": [
    "# What is the time complexity and actual runtime \n",
    "# of the two get_centroid functions?\n",
    "\n",
    "import csv\n",
    "\n",
    "def get_data():\n",
    "    '''Reads the file Wholesale customers data.csv \n",
    "    and returns part of the data as a list of lists.'''\n",
    "    with open('Wholesale customers data.csv') as f:\n",
    "        reader = csv.reader(f)\n",
    "        data = [[int(i) for i in row[2:]] for row in reader if row[0]!='Channel']\n",
    "    return data\n",
    "\n",
    "def get_centroid(pointLists):\n",
    "    '''Estimates the centroid for a collection of n-dimensional points.\n",
    "    Assumes pointLists is a collection of lists of numerical values.\n",
    "    Returns a list of numerical values (the coordinates of the centroid).'''\n",
    "    num = len(pointLists)\n",
    "    centroids=[]\n",
    "    demension = len(pointLists[0])\n",
    "    \n",
    "    for a in range(demension):\n",
    "        centroids.append(0.0)\n",
    "\n",
    "    for i in range(num):\n",
    "        point =  pointLists[i]\n",
    "        for d in range(demension):\n",
    "            centroids[d] = centroids[d]+point[d]\n",
    "            \n",
    "    for a in range(demension):\n",
    "        centroids[a] = centroids[a]/num\n",
    "\n",
    "    return centroids\n",
    "\n",
    "def get_centroid_2(points):\n",
    "    '''Estimates the centroid for a collection of n-dimensional points.\n",
    "    Assumes points is a collection of lists of numerical values.\n",
    "    Returns a list of numerical values (the coordinates of the centroid).'''\n",
    "    centroid = []\n",
    "    num_points = len(points)\n",
    "    num_dims = len(points[0])\n",
    "    for dim in range(num_dims):\n",
    "        coord = [i[dim] for i in points]\n",
    "        centroid.append(sum(coord)/num_points)\n",
    "    return centroid\n",
    "\n",
    "data = get_data()\n",
    "print(get_centroid(data))\n",
    "print(get_centroid_2(data))\n",
    "            \n",
    "timit(get_centroid, (data,))\n",
    "timit(get_centroid_2, (data,))"
   ]
  },
  {
   "cell_type": "markdown",
   "metadata": {
    "slideshow": {
     "slide_type": "fragment"
    }
   },
   "source": [
    "* The algorithms have the same order of growth: $O(pd)$ where $p$ is the number of points and $d$ is the number of dimensions\n",
    "* However, they have different performance, as the first algorithm unnecessarily loops two additional times"
   ]
  },
  {
   "cell_type": "markdown",
   "metadata": {
    "slideshow": {
     "slide_type": "slide"
    }
   },
   "source": [
    "## Analyzing and Benchmarking Your Code: Exercise 2"
   ]
  },
  {
   "cell_type": "code",
   "execution_count": null,
   "metadata": {
    "collapsed": true,
    "slideshow": {
     "slide_type": "-"
    }
   },
   "outputs": [],
   "source": [
    "# The algorithms take two inputs: list coauthors of length c and dictionary author_dic of length d\n",
    "# What is the time complexity of the two algorithms?\n",
    "\n",
    "# Algorithm 1\n",
    "for k, v in author_dic.items():\n",
    "    vlst = [sub_list[1] for sub_list in coauthors if sub_list[0]==k and sub_list[1]!=k]\n",
    "    vlst = sorted(vlst)\n",
    "    author_dic[k] = vlst\n",
    "    \n",
    "# Algorithm 2\n",
    "for i, j in coauthors:\n",
    "    if j!=i:\n",
    "        author_dic[i].append(j)"
   ]
  },
  {
   "cell_type": "markdown",
   "metadata": {
    "slideshow": {
     "slide_type": "fragment"
    }
   },
   "source": [
    "The algorithms have different order of growth:\n",
    "\n",
    "* Algorithm 2: $O(c)$\n",
    "* Algorithm 1: $O(dc \\log c)$, or $O(dc)$ if sorting is omitted\n",
    "    * Sorting is $O(n \\log n)$\n",
    "    * Indexing is $O(1)$\n",
    "    * Remember to keep the dominant term only"
   ]
  }
 ],
 "metadata": {
  "celltoolbar": "Slideshow",
  "kernelspec": {
   "display_name": "Python [conda root]",
   "language": "python",
   "name": "conda-root-py"
  },
  "language_info": {
   "codemirror_mode": {
    "name": "ipython",
    "version": 3
   },
   "file_extension": ".py",
   "mimetype": "text/x-python",
   "name": "python",
   "nbconvert_exporter": "python",
   "pygments_lexer": "ipython3",
   "version": "3.6.3"
  }
 },
 "nbformat": 4,
 "nbformat_minor": 2
}
