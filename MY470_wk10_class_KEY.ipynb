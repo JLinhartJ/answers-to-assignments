{
 "cells": [
  {
   "cell_type": "markdown",
   "metadata": {
    "slideshow": {
     "slide_type": "slide"
    }
   },
   "source": [
    "### MY470 Computer Programming\n",
    "# Order of Growth\n",
    "### Week 10 Lab"
   ]
  },
  {
   "cell_type": "markdown",
   "metadata": {
    "slideshow": {
     "slide_type": "slide"
    }
   },
   "source": [
    "## Runtime: Benchmarking\n",
    "\n",
    "Use `time` module:\n",
    "\n",
    "1. Save time immediately before code\n",
    "* Save time immediately after code\n",
    "* Estimate 2 – 1"
   ]
  },
  {
   "cell_type": "code",
   "execution_count": 1,
   "metadata": {
    "slideshow": {
     "slide_type": "-"
    }
   },
   "outputs": [
    {
     "name": "stdout",
     "output_type": "stream",
     "text": [
      "0.002382993698120117\n"
     ]
    }
   ],
   "source": [
    "import time\n",
    "\n",
    "ls = list(range(100000))\n",
    "\n",
    "start = time.time()\n",
    "ls.count(99999)\n",
    "end = time.time()\n",
    "print(end - start)"
   ]
  },
  {
   "cell_type": "markdown",
   "metadata": {
    "slideshow": {
     "slide_type": "slide"
    }
   },
   "source": [
    "## Benchmarking: Repeat to Time More Accurately\n",
    "\n",
    "* Execution time can be affected by other processes running simultaneously\n",
    "* Execution time can depend on the order of execution (randomize execution order)"
   ]
  },
  {
   "cell_type": "code",
   "execution_count": 2,
   "metadata": {
    "slideshow": {
     "slide_type": "fragment"
    }
   },
   "outputs": [
    {
     "name": "stdout",
     "output_type": "stream",
     "text": [
      "0.002099313735961914\n"
     ]
    },
    {
     "data": {
      "text/plain": [
       "0.001885986409979523"
      ]
     },
     "execution_count": 2,
     "metadata": {},
     "output_type": "execute_result"
    }
   ],
   "source": [
    "# Do it yourself\n",
    "ls = list(range(100000))\n",
    "\n",
    "res = 0\n",
    "for i in range(100):\n",
    "    start = time.time()\n",
    "    ls.count(99999)\n",
    "    end = time.time()\n",
    "    res += end - start\n",
    "print(res / 100)\n",
    "\n",
    "# Use a module\n",
    "from timeit import timeit \n",
    "timeit(stmt = 'ls.count(99999)', setup = 'ls = list(range(100000))', number = 100) / 100"
   ]
  },
  {
   "cell_type": "code",
   "execution_count": null,
   "metadata": {
    "collapsed": true,
    "slideshow": {
     "slide_type": "fragment"
    }
   },
   "outputs": [],
   "source": [
    "### R code ###\n",
    "\n",
    "require(microbenchmark)\n",
    "\n",
    "ls <- seq(0, 99999)\n",
    "microbenchmark(sum(ls == 99999))\n",
    "\n",
    "# Unit: microseconds\n",
    "#             expr     min      lq     mean  median       uq      max neval\n",
    "# sum(ls == 99999) 368.309 416.865 684.3047 559.569 706.2215 3955.864   100"
   ]
  },
  {
   "cell_type": "markdown",
   "metadata": {
    "slideshow": {
     "slide_type": "slide"
    }
   },
   "source": [
    "## Runtime: Order of Growth\n",
    "\n",
    "* Consider the worst-case scenario\n",
    "* Look at:\n",
    "    * Function and method calls \n",
    "    * Recursive calls\n",
    "    * Loops\n",
    "* Keep the term with the largest growth rate\n",
    "* Drop any constants from the remaining term"
   ]
  },
  {
   "cell_type": "markdown",
   "metadata": {
    "slideshow": {
     "slide_type": "slide"
    }
   },
   "source": [
    "**Exercise 1**: The following functions show the average number of operations required to perform some algorithm on a list of length n. Give the Big-O notation for the time complexity of each algorithm:\n",
    "\n",
    "1. $4n^2 + 2n + 2$\n",
    "* $n + \\log n$\n",
    "* $n \\log n$\n",
    "* 3"
   ]
  },
  {
   "cell_type": "code",
   "execution_count": null,
   "metadata": {
    "collapsed": true,
    "slideshow": {
     "slide_type": "-"
    }
   },
   "outputs": [],
   "source": [
    "# Solution: Keep the most dominant terms and ignore constants\n",
    "\n",
    "#1. O(n^2)\n",
    "#2. O(n)\n",
    "#3. O(n log n)\n",
    "#4. O(1)\n"
   ]
  },
  {
   "cell_type": "code",
   "execution_count": null,
   "metadata": {
    "collapsed": true,
    "slideshow": {
     "slide_type": "slide"
    }
   },
   "outputs": [],
   "source": [
    "# Exercise 2: What is the order of growth of the function below?\n",
    "\n",
    "def sum_product(ls):\n",
    "    summ, product = 0, 1\n",
    "    for i in range(len(ls)):\n",
    "        summ += ls[i]\n",
    "    for j in range(len(ls)):\n",
    "        product *= ls[j]\n",
    "    return summ, product    \n",
    "\n",
    "\n",
    "# Solution: O(n), where n is len(ls). The fact that there are \n",
    "# two loops over the list is irrelevant as we ignore constants.\n"
   ]
  },
  {
   "cell_type": "code",
   "execution_count": null,
   "metadata": {
    "collapsed": true,
    "scrolled": true,
    "slideshow": {
     "slide_type": "slide"
    }
   },
   "outputs": [],
   "source": [
    "# Exercise 3: What is the order of growth of the function below?\n",
    "\n",
    "def combine(la, lb):\n",
    "    for i in la:\n",
    "        for j in lb:\n",
    "            if i < j:\n",
    "                print(i, '-', j)\n",
    "\n",
    "                \n",
    "# Solution: O(ab), where a is len(la) and b is len(lb). The function \n",
    "# has two different inputs and its runtime depends on the length of both.\n"
   ]
  },
  {
   "cell_type": "code",
   "execution_count": 3,
   "metadata": {
    "collapsed": true,
    "slideshow": {
     "slide_type": "slide"
    }
   },
   "outputs": [],
   "source": [
    "# Exercise 4: What is the order of growth of the function below?\n",
    "\n",
    "def sum_digits(n):\n",
    "    '''Takes positive integer n and sums its digits.'''\n",
    "    summ = 0\n",
    "    while n > 0:\n",
    "        summ += int(n % 10)\n",
    "        n = int(n / 10)\n",
    "    return summ\n",
    "\n",
    "\n",
    "# Solution: The runtime is the number of digits in the number. \n",
    "# A number with d digits is of size up to 10^d. If n = 10^d,\n",
    "# then d = log n. Hence, the runtime is O(log n).\n"
   ]
  },
  {
   "cell_type": "code",
   "execution_count": null,
   "metadata": {
    "collapsed": true,
    "slideshow": {
     "slide_type": "slide"
    }
   },
   "outputs": [],
   "source": [
    "# Exercise 5: This is code submitted by a student for Problem 2 \n",
    "# in Assignment 3. Given an edge list of coauthors in data, \n",
    "# the task was to create a sorted list of all unique authors. \n",
    "# What is the order of growth of this code? What is wrong here? \n",
    "# How would you rewrite the code to make it more efficient?\n",
    "\n",
    "lst = [] \n",
    "for i,j in coauthors:\n",
    "    lst.append(int(i)) \n",
    "    unique_authors = list(set(lst))\n",
    "    unique_authors.sort()\n",
    " \n",
    "# Solution: The complexity of the code is O(n^2 log n), where\n",
    "# n is the length of coauthors. The code calls the set function\n",
    "# and sorts the list n times, which results in n * (n + n log n)\n",
    "# steps, since sorting is on the order of n log n (assuming \n",
    "# the worst-case scenario where each edge introduces a unique author). \n",
    "# However, we worry only about the dominant term so this gives us  \n",
    "# O(n^2 log n). If we un-indent the last statement, we will reduce \n",
    "# the complexity to O(n^2). If we were to also remove the set \n",
    "# transformation outside of the loop, the complexity is further\n",
    "# reduced to O(n log n), dictated by the sorting. We can further\n",
    "# reduce the actual runtime of the code by replacing the loop \n",
    "# with a list comprehension.\n",
    "\n",
    "lst = [int(i) for i, j in coauthors] \n",
    "unique_authors = list(set(lst))\n",
    "unique_authors.sort()"
   ]
  },
  {
   "cell_type": "code",
   "execution_count": 9,
   "metadata": {
    "slideshow": {
     "slide_type": "slide"
    }
   },
   "outputs": [
    {
     "name": "stdout",
     "output_type": "stream",
     "text": [
      "6.68526 microseconds\n",
      "5.67171 microseconds\n"
     ]
    }
   ],
   "source": [
    "# Exercise 6: Compare the execution time for loops \n",
    "# between R and Python using Exercise 4.\n",
    "\n",
    "\n",
    "# Solution: \n",
    "\n",
    "res = 0\n",
    "for i in range(100):\n",
    "    start = time.time()\n",
    "    sum_digits(100000000)\n",
    "    end = time.time()\n",
    "    res += end - start\n",
    "res = res / 100\n",
    "print('%0.5f microseconds' % (res * 1000000))\n",
    "\n",
    "# Alternative solution:\n",
    "res2 = timeit('sum_digits(100000000)', setup = 'from __main__ import sum_digits', number = 100) / 100\n",
    "print('%0.5f microseconds' % (res2 * 1000000))"
   ]
  },
  {
   "cell_type": "code",
   "execution_count": null,
   "metadata": {
    "collapsed": true,
    "slideshow": {
     "slide_type": "-"
    }
   },
   "outputs": [],
   "source": [
    "### R code ###\n",
    "\n",
    "require(microbenchmark)\n",
    "\n",
    "sum_digits <- function(n) {\n",
    "  summ <- 0\n",
    "  while (n > 0) {\n",
    "    summ <- summ + as.integer(n %% 10)\n",
    "    n <- as.integer(n / 10)\n",
    "  }\n",
    "  return(summ)\n",
    "}\n",
    "\n",
    "microbenchmark(\n",
    "  sum_digits(100000000),\n",
    "  times = 100\n",
    ")\n",
    "\n",
    "# Unit: microseconds\n",
    "#              expr   min    lq     mean median    uq      max neval\n",
    "# sum_digits(1e+08) 6.711 7.896 87.21844  8.291 8.685 7842.249   100"
   ]
  },
  {
   "cell_type": "code",
   "execution_count": null,
   "metadata": {
    "collapsed": true,
    "slideshow": {
     "slide_type": "slide"
    }
   },
   "outputs": [],
   "source": [
    "# Exercise 7: Create a function to multiply each element of a \n",
    "# vector `v` by a scalar `m` in R with and without a for-loop\n",
    "# and compare their execution time.\n",
    "\n",
    "# Solution:\n",
    "\n",
    "### R code ###\n",
    "\n",
    "require(microbenchmark)\n",
    "\n",
    "multiply <- function (v, m) {\n",
    "  for (i in seq_along(v)) {\n",
    "    v[i] <- v[i] * m \n",
    "  }\n",
    "  return(v)\n",
    "}\n",
    "\n",
    "multiply2 <- function(v, m) {\n",
    "  return(v * m)\n",
    "}\n",
    "\n",
    "microbenchmark(\n",
    "  'for-loop' = multiply(1:10000, 2),\n",
    "  'vectorized' = multiply2(1:10000, 2),\n",
    "  times = 100\n",
    ")\n",
    "        \n",
    "# Unit: microseconds\n",
    "#       expr     min      lq       mean   median       uq     max neval\n",
    "#   for-loop 767.014 804.122 1008.78336 828.2015 890.5730 6059.92   100\n",
    "# vectorized  17.764  21.318   52.12061  42.2400  45.2005 1213.09   100"
   ]
  }
 ],
 "metadata": {
  "celltoolbar": "Slideshow",
  "kernelspec": {
   "display_name": "Python 3",
   "language": "python",
   "name": "python3"
  },
  "language_info": {
   "codemirror_mode": {
    "name": "ipython",
    "version": 3
   },
   "file_extension": ".py",
   "mimetype": "text/x-python",
   "name": "python",
   "nbconvert_exporter": "python",
   "pygments_lexer": "ipython3",
   "version": "3.6.5"
  }
 },
 "nbformat": 4,
 "nbformat_minor": 2
}
