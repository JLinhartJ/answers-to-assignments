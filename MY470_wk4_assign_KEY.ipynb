{
 "cells": [
  {
   "cell_type": "markdown",
   "metadata": {
    "slideshow": {
     "slide_type": "slide"
    }
   },
   "source": [
    "### MY470 Computer Programming\n",
    "\n",
    "### Week 4 Assignment\n",
    "\n",
    "#### \\*\\*\\* Example Answers \\*\\*\\*"
   ]
  },
  {
   "cell_type": "markdown",
   "metadata": {
    "slideshow": {
     "slide_type": "slide"
    }
   },
   "source": [
    "---\n",
    "### Writing your own k-means clustering algorithm\n",
    "\n",
    "K-means clustering is a simple unsupervised machine-learning method for cluster analysis. The aim of the method is to partition a set of points into k clusters, such that each point is assigned to the nearest cluster. The algorithm iterates through two steps:\n",
    "\n",
    "1. Assign each data point to the cluster with the nearest centroid\n",
    "2. Update the centroids of the clusters given the new assignment\n",
    "\n",
    "The algorithm converges when the assignments no longer change. Since the intial assignment to clusters is largely random, there is no guarantee that the optimum assignment is found. So it is common to run the algorithm multiple times and use different starting conditions.\n",
    "\n",
    "In this assignment, we will implement a much simplified version of the k-means clustering algorithm. Rather than running the algorithm until convergence, we will repeat the above two steps a large but fixed number of times. In addition, we will initialize only once, using a naive method according to which we randomly choose k points from the data to use as initial cluster centroids. \n",
    "\n",
    "(In real life, you will of course use a library to implement such an algorithm. In Python, you can do this using [scikit-learn](http://scikit-learn.org/stable/modules/generated/sklearn.cluster.KMeans.html).)\n",
    "\n",
    "For the assignment, we will additionally use data from the file \"Wholesale customers data.csv\". The file contains information on the annual spending on diverse product categories for the clients of a wholesale distributor. The data are obtained from the [UCI Machine Learning Repository](http://archive.ics.uci.edu/ml/index.php) and you can find more information about them [here](http://archive.ics.uci.edu/ml/datasets/Wholesale+customers#).\n",
    "\n",
    "#### Hints\n",
    "\n",
    "Use docstrings to describe your functions. We will subtract points from your mark if you do not use appropriate description of your code."
   ]
  },
  {
   "cell_type": "markdown",
   "metadata": {},
   "source": [
    "### Problem 1: Function to estimate Euclidean distance between two points\n",
    "\n",
    "Write a function called `get_distance` that calculates the Euclidean distance between two n-dimensional points. The function should take two lists as arguments, where each list contains the n coordinates of each of the two points. \n",
    "\n",
    "Test your function for the points [0, 3, 0] and [4, 0, 0].\n",
    "\n",
    "#### Hints\n",
    "\n",
    "You can read about the definition of Euclidean distance on [Wikipedia](https://en.wikipedia.org/wiki/Euclidean_distance).\n"
   ]
  },
  {
   "cell_type": "code",
   "execution_count": 14,
   "metadata": {},
   "outputs": [
    {
     "name": "stdout",
     "output_type": "stream",
     "text": [
      "5.0\n"
     ]
    }
   ],
   "source": [
    "# You will need the math module to estimate the square root.\n",
    "import math\n",
    "# To get the square root of num, use math.sqrt(num)\n",
    "\n",
    "# Enter your answer to Problem 1 below. \n",
    "\n",
    "def get_distance(x, y):\n",
    "    '''Estimates the Euclidean distance between two n-dimensional points.\n",
    "    Assumes x and y are lists of numerical values (the point coordinates).\n",
    "    Returns float (the Euclidean distance between x and y).'''\n",
    "    \n",
    "    sqrs = [(x[i] - y[i])**2 for i in range(len(x))]\n",
    "    return math.sqrt(sum(sqrs))\n",
    "\n",
    "print(get_distance([0, 3, 0], [4, 0, 0]))\n"
   ]
  },
  {
   "cell_type": "markdown",
   "metadata": {},
   "source": [
    "### Problem 2: Function to estimate the centroid of a collection of points\n",
    "\n",
    "Write a function called `get_centroid` that estimates the centroid of a collection of n-dimensional points. The function should take one list as an argument, which contains each of the points entered as a list of n coordinates. The function should return a list with the coordinates of the virtual center point.\n",
    "\n",
    "Test your function for the points in `test_lst` entered below.\n",
    "\n",
    "#### Hints\n",
    "\n",
    "The coordinate of the centroid in each dimension is the mean of the coordinates of all the points in that dimension.\n"
   ]
  },
  {
   "cell_type": "code",
   "execution_count": 15,
   "metadata": {
    "scrolled": false
   },
   "outputs": [
    {
     "name": "stdout",
     "output_type": "stream",
     "text": [
      "[0.5, 0.5, 0.5]\n"
     ]
    }
   ],
   "source": [
    "test_lst = [[0,0,0], [0,0,1], [0,1,0], [1,0,0], \n",
    "            [0,1,1], [1,0,1], [1,1,0], [1,1,1]]\n",
    "\n",
    "# Enter your answer to Problem 2 below. \n",
    "\n",
    "def get_centroid(points):\n",
    "    '''Estimates the centroid for a collection of n-dimensional points.\n",
    "    Assumes points is a collection of lists of numerical values.\n",
    "    Returns a list of numerical values (the coordinates of the centroid).'''\n",
    "    \n",
    "    centroid = []\n",
    "    num_points = len(points)\n",
    "    num_dims = len(points[0])\n",
    "    for dim in range(num_dims):\n",
    "        coord = [i[dim] for i in points]\n",
    "        centroid.append(sum(coord)/num_points)\n",
    "        \n",
    "    return centroid\n",
    "\n",
    "print(get_centroid(test_lst))\n"
   ]
  },
  {
   "cell_type": "markdown",
   "metadata": {},
   "source": [
    "---\n",
    "### Problem 3: Function to read data\n",
    "\n",
    "Write a function called `get_data` that opens the file \"Wholesale customers data.csv\" and returns all the data in a list. Each element in the list should be a list of each customer's annual spending on fresh products, milk products, grocery products, frozen products, detergents and paper products, and delicatessen products. In other words, your list should contain 440 elements (customers), each of which contains six elements (amounts spent on products). The function does not need to take any arguments.\n",
    "\n",
    "Test your function by saving the data it returns in a variable called `data`. Then print the first two elements of `data`.\n",
    "\n",
    "\n",
    "#### Hints\n",
    "\n",
    "Use the csv module to read the file. You can read how to do this [here](https://docs.python.org/3/library/csv.html). Make sure you do not include the culumn names in the data. In addition, make sure that you get the data as a numeric type, rather than a string."
   ]
  },
  {
   "cell_type": "code",
   "execution_count": 16,
   "metadata": {},
   "outputs": [
    {
     "name": "stdout",
     "output_type": "stream",
     "text": [
      "[[12669, 9656, 7561, 214, 2674, 1338], [7057, 9810, 9568, 1762, 3293, 1776]]\n"
     ]
    }
   ],
   "source": [
    "# Enter your answer to Problem 3 here. \n",
    "\n",
    "import csv\n",
    "\n",
    "def get_data():\n",
    "    '''Reads the file Wholesale customers data.csv and \n",
    "    returns part of the data as a list of lists.'''\n",
    "    \n",
    "    with open('Wholesale customers data.csv') as f:\n",
    "        reader = csv.reader(f)\n",
    "        data = [[int(i) for i in row[2:]] for row in reader if row[0]!='Channel']\n",
    "    return data\n",
    "\n",
    "data = get_data()\n",
    "print(data[:2])"
   ]
  },
  {
   "cell_type": "markdown",
   "metadata": {},
   "source": [
    "---\n",
    "### Problem 4: Function to implement k-means algorithm\n",
    "\n",
    "Write a function called `kmeans` that clusters a collection of points into k clusters using a simplified version of the k-means algorithm. The function should take two arguments: \n",
    "\n",
    "1. `points` – a list of n-dimensional points, and\n",
    "2. `k` – an integer that defines the number of desired clusters. \n",
    "\n",
    "The function should return two things: \n",
    "\n",
    "1. A clustering – a list of `k` clusters, each of which is a list of points (each of which is a list of coordinates)\n",
    "2. A list of the centroids for each of the `k` clusters. Each centroid is essentially a point, so it should be presented as a list of coordinates.\n",
    "\n",
    "Write your code around the detailed comments and the helping code below.\n",
    "\n",
    "Test your function on the data from Problem 3 for k = 3. For each of the three clusters, print the number of customers assigned to it and the cordinates of its centroid.\n"
   ]
  },
  {
   "cell_type": "code",
   "execution_count": 17,
   "metadata": {},
   "outputs": [
    {
     "name": "stdout",
     "output_type": "stream",
     "text": [
      "***Cluster 1***\n",
      "Number of customers: 53\n",
      "Centroid: [7751.981132075472, 17910.509433962263, 27037.905660377357, 1970.9433962264152, 12104.867924528302, 2185.735849056604]\n",
      "\n",
      "***Cluster 2***\n",
      "Number of customers: 327\n",
      "Centroid: [8296.0, 3787.256880733945, 5162.80122324159, 2582.1162079510705, 1724.5229357798164, 1138.0152905198777]\n",
      "\n",
      "***Cluster 3***\n",
      "Number of customers: 60\n",
      "Centroid: [35941.4, 6044.45, 6288.616666666667, 6713.966666666666, 1039.6666666666667, 3049.4666666666667]\n",
      "\n"
     ]
    }
   ],
   "source": [
    "# Enter your answer to Problem 4 in-between the code and comments below. \n",
    "\n",
    "import random\n",
    "\n",
    "def kmeans(points, k):\n",
    "    '''Clusters data using a naive implementation of the k-means \n",
    "    clustering algorithm. Assumes points is a list of lists \n",
    "    of numerical values (point coordinates) and k is \n",
    "    an integer > 0 specifiying the number of clusters to be used.\n",
    "    Returns the k-means clustering after 100 iterations \n",
    "    and a single initialization as a list of k lists (clusters) \n",
    "    of points and a list of k lists of numerical values \n",
    "    (the coordinates of the cluster centroids.)'''\n",
    "    \n",
    "    # Select k random points to use as initial centroids\n",
    "    init = random.sample(points, k)\n",
    "\n",
    "    # Create a list of k lists to contain the points assigned to each cluster.  \n",
    "    clusters = [[] for i in init]\n",
    "    \n",
    "    # Create a list to keep the centroids of the k clusters. \n",
    "    # For now, this list will contain the points from init.\n",
    "    centroids = [i for i in init]\n",
    "    \n",
    "    # Repeat the clustering for 100 iterations.\n",
    "    # The idea is that each new repetition refines the clustering \n",
    "    # because it starts from the centroids of the previous clustering.     \n",
    "    for i in range(100):\n",
    "        # Create a list of lists for the new clustering\n",
    "        new_clustering = [[] for i in range(k)]\n",
    "        \n",
    "        # Assign each point to the cluster with the closest centroid.\n",
    "        for p in points:\n",
    "            # Start by setting the closest cluster to be the first one\n",
    "            min_dist = get_distance(p, centroids[0])\n",
    "            closest_clust = 0\n",
    "            # Now find the actual closest cluster\n",
    "            for i in range(1, k):\n",
    "                dist = get_distance(p, centroids[i])\n",
    "                if dist < min_dist:\n",
    "                    min_dist = dist\n",
    "                    closest_clust = i                    \n",
    "            # Add the point to the closest cluster\n",
    "            new_clustering[closest_clust].append(p)\n",
    "            \n",
    "        # Now update the clusters and the centroids\n",
    "        clusters = new_clustering\n",
    "        centroids = [get_centroid(i) for i in clusters]\n",
    "    \n",
    "    return clusters, centroids\n",
    "    \n",
    "        \n",
    "clusters, centroids = kmeans(data, 3)\n",
    "for i in range(3):\n",
    "    print('***Cluster ' + str(i+1) + '***')\n",
    "    print('Number of customers:', len(clusters[i]))\n",
    "    print('Centroid:', centroids[i])\n",
    "    print()\n",
    "    \n",
    "# Note that your answers are likely to be different \n",
    "# due to the random initialization of the algorithm.\n",
    "# In fact, the answers are likely to be different \n",
    "# every time you run this code.\n"
   ]
  },
  {
   "cell_type": "markdown",
   "metadata": {},
   "source": [
    "---\n",
    "\n",
    "### Evaluation\n",
    "\n",
    "| Problem | Mark     | Comment   \n",
    "|:-------:|:--------:|:----------------------\n",
    "| 1       |   /4    |              \n",
    "| 2       |   /4    | \n",
    "| 3       |   /4    | \n",
    "| 4       |   /8    | \n",
    "|**Total**|**/20**  | \n"
   ]
  }
 ],
 "metadata": {
  "kernelspec": {
   "display_name": "Python [default]",
   "language": "python",
   "name": "python3"
  },
  "language_info": {
   "codemirror_mode": {
    "name": "ipython",
    "version": 3
   },
   "file_extension": ".py",
   "mimetype": "text/x-python",
   "name": "python",
   "nbconvert_exporter": "python",
   "pygments_lexer": "ipython3",
   "version": "3.6.3"
  }
 },
 "nbformat": 4,
 "nbformat_minor": 2
}
